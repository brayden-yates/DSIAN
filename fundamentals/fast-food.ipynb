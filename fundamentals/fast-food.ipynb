{
 "cells": [
  {
   "cell_type": "code",
   "execution_count": 36,
   "id": "efb55381-c674-4db1-9a5e-0c3a910b26f6",
   "metadata": {},
   "outputs": [],
   "source": [
    "import pandas as pd\n",
    "from scipy.stats import f_oneway, shapiro, kstest, normaltest\n",
    "\n"
   ]
  },
  {
   "cell_type": "code",
   "execution_count": 37,
   "id": "39903f01-808e-4a75-80e6-82b768e5e988",
   "metadata": {},
   "outputs": [],
   "source": [
    "df = pd.read_csv('FastFoodNutritionMenuV3.csv')\n",
    "df['Calories'] = pd.to_numeric(df['Calories'], errors='coerce')\n",
    "df.dropna(subset=['Calories'], inplace=True)"
   ]
  },
  {
   "cell_type": "code",
   "execution_count": 38,
   "id": "745985cb-b8f1-4904-869f-e51b08c6304d",
   "metadata": {},
   "outputs": [],
   "source": [
    "anova_result = f_oneway(\n",
    "    df[df['Company'] == 'McDonald’s']['Calories'],\n",
    "    df[df['Company'] == 'KFC']['Calories'],\n",
    "    df[df['Company'] == 'Burger King']['Calories'],\n",
    "    df[df['Company'] == 'Taco Bell']['Calories'],\n",
    "    df[df['Company'] == 'Wendy’s']['Calories']\n",
    ")"
   ]
  },
  {
   "cell_type": "code",
   "execution_count": 39,
   "id": "ef72e6b6-b5cb-4363-87bf-86f3cb64fb85",
   "metadata": {},
   "outputs": [
    {
     "name": "stdout",
     "output_type": "stream",
     "text": [
      "ANOVA F-Statistic: 11.180960013457812\n",
      "ANOVA p-value: 6.918084671576456e-09\n"
     ]
    }
   ],
   "source": [
    "print(\"ANOVA F-Statistic:\", anova_result.statistic)\n",
    "print(\"ANOVA p-value:\", anova_result.pvalue)"
   ]
  },
  {
   "cell_type": "code",
   "execution_count": 41,
   "id": "c41b1a35-256f-4d47-ac13-f915edf363d6",
   "metadata": {},
   "outputs": [],
   "source": [
    "shapiro_test_statistic, shapiro_p_value = shapiro(df['Calories'])"
   ]
  },
  {
   "cell_type": "code",
   "execution_count": 42,
   "id": "bc0b8825-485e-4995-88ac-2a98fb102ce8",
   "metadata": {},
   "outputs": [
    {
     "name": "stdout",
     "output_type": "stream",
     "text": [
      "Test Statistic: 0.9165760656989711\n",
      "p-value: 1.71061953890427e-24\n"
     ]
    }
   ],
   "source": [
    "print(\"Test Statistic:\", shapiro_test_statistic)\n",
    "print(\"p-value:\", shapiro_p_value)\n"
   ]
  },
  {
   "cell_type": "code",
   "execution_count": null,
   "id": "ae43b5aa-e009-48c7-9765-c719db921ca1",
   "metadata": {},
   "outputs": [],
   "source": []
  }
 ],
 "metadata": {
  "kernelspec": {
   "display_name": "Python 3 (ipykernel)",
   "language": "python",
   "name": "python3"
  },
  "language_info": {
   "codemirror_mode": {
    "name": "ipython",
    "version": 3
   },
   "file_extension": ".py",
   "mimetype": "text/x-python",
   "name": "python",
   "nbconvert_exporter": "python",
   "pygments_lexer": "ipython3",
   "version": "3.11.6"
  }
 },
 "nbformat": 4,
 "nbformat_minor": 5
}
