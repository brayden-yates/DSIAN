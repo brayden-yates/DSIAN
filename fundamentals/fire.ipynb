{
 "cells": [
  {
   "cell_type": "code",
   "execution_count": 43,
   "id": "2e905dd4-9548-4aa6-b118-5d29c9b4b0c4",
   "metadata": {},
   "outputs": [],
   "source": [
    "import pandas as pd\n",
    "import numpy as np\n",
    "from scipy.stats import ttest_1samp,ttest_rel,ttest_ind"
   ]
  },
  {
   "cell_type": "code",
   "execution_count": 30,
   "id": "182cd587-4043-41e4-bb7d-14d973cf6a15",
   "metadata": {},
   "outputs": [],
   "source": [
    "df = pd.read_csv('reddit_finance.csv')\n",
    "df\n",
    "df = df.dropna(subset=['2020_lux_exp', '2020_necessities_exp'])"
   ]
  },
  {
   "cell_type": "code",
   "execution_count": 31,
   "id": "acce5708-d598-4036-85e7-a731de63652e",
   "metadata": {},
   "outputs": [],
   "source": [
    "luxuries = df['2020_lux_exp'].astype(float)\n",
    "necessary_expenses = df['2020_necessities_exp'].astype(float)"
   ]
  },
  {
   "cell_type": "code",
   "execution_count": 32,
   "id": "5fda7b98-295e-4ca1-8c88-417b743dcfd5",
   "metadata": {},
   "outputs": [
    {
     "data": {
      "text/plain": [
       "0        15000.0\n",
       "1        70000.0\n",
       "2        10000.0\n",
       "3        50000.0\n",
       "4       150000.0\n",
       "          ...   \n",
       "1990     34000.0\n",
       "1994     10000.0\n",
       "1995     41000.0\n",
       "1996    101000.0\n",
       "1997    100000.0\n",
       "Name: 2020_invst_save, Length: 1441, dtype: float64"
      ]
     },
     "execution_count": 32,
     "metadata": {},
     "output_type": "execute_result"
    }
   ],
   "source": [
    "savings"
   ]
  },
  {
   "cell_type": "code",
   "execution_count": 36,
   "id": "7d1f691e-62bf-46f3-a6c2-2db7993c08f8",
   "metadata": {},
   "outputs": [],
   "source": [
    "t_statistic, p_value = ttest_1samp(luxuries, popmean=necessary_expenses.mean())"
   ]
  },
  {
   "cell_type": "code",
   "execution_count": 37,
   "id": "c547a4f1-88a5-4e25-931b-dd280fcd3f11",
   "metadata": {},
   "outputs": [
    {
     "name": "stdout",
     "output_type": "stream",
     "text": [
      "One Sample T-test Results:\n",
      "t-statistic: -0.09388963223932237\n",
      "p-value: 0.9252079658303848\n"
     ]
    }
   ],
   "source": [
    "print(\"One Sample T-test Results:\")\n",
    "print(\"t-statistic:\", t_statistic)\n",
    "print(\"p-value:\", p_value)"
   ]
  },
  {
   "cell_type": "code",
   "execution_count": 40,
   "id": "481a06c4-9f7d-4848-8b16-c84e7f6d8afb",
   "metadata": {},
   "outputs": [],
   "source": [
    "t_statistic, p_value = ttest_rel(luxuries, necessary_expenses)"
   ]
  },
  {
   "cell_type": "code",
   "execution_count": 41,
   "id": "cea96b0d-fbe5-49da-8280-7e28b5b666bc",
   "metadata": {},
   "outputs": [
    {
     "name": "stdout",
     "output_type": "stream",
     "text": [
      "Paired Samples T-test Results:\n",
      "t-statistic: -0.11681845617899224\n",
      "p-value: 0.9070178063872212\n"
     ]
    }
   ],
   "source": [
    "print(\"Paired Samples T-test Results:\")\n",
    "print(\"t-statistic:\", t_statistic)\n",
    "print(\"p-value:\", p_value)"
   ]
  },
  {
   "cell_type": "code",
   "execution_count": 42,
   "id": "1cc4d820-5983-4a0b-a7ce-1a75b3027465",
   "metadata": {},
   "outputs": [],
   "source": [
    "gross = df['2020_gross_inc'].astype(float).dropna()\n"
   ]
  },
  {
   "cell_type": "code",
   "execution_count": 46,
   "id": "4d9f94a6-fa84-4f07-a83a-225f65dfce4f",
   "metadata": {},
   "outputs": [],
   "source": [
    "fin_indy_yes = df[df['fin_indy'] == 'Yes']\n",
    "fin_indy_no = df[df['fin_indy'] == 'No']"
   ]
  },
  {
   "cell_type": "code",
   "execution_count": 51,
   "id": "7ecc97d3-852a-4dcd-a464-3a1c174413a4",
   "metadata": {},
   "outputs": [],
   "source": [
    "gross_income_yes = fin_indy_yes['2020_gross_inc'].dropna()\n",
    "gross_income_no = fin_indy_no['2020_gross_inc'].dropna()"
   ]
  },
  {
   "cell_type": "code",
   "execution_count": 52,
   "id": "f93583fd-bd4c-40ae-82ed-3e75ac65909b",
   "metadata": {},
   "outputs": [],
   "source": [
    "necessary_expenses_yes = fin_indy_yes['2020_necessities_exp'].dropna()\n",
    "necessary_expenses_no = fin_indy_no['2020_necessities_exp'].dropna()"
   ]
  },
  {
   "cell_type": "code",
   "execution_count": 53,
   "id": "9551a352-be7b-40bd-b961-5f594dabc0e4",
   "metadata": {},
   "outputs": [],
   "source": [
    "t_stat_gross_income, p_value_gross_income = ttest_ind(gross_income_yes, gross_income_no)\n",
    "t_stat_necessary_expenses, p_value_necessary_expenses = ttest_ind(necessary_expenses_yes, necessary_expenses_no)"
   ]
  },
  {
   "cell_type": "code",
   "execution_count": 54,
   "id": "f9def08e-a3ab-4a21-aba3-9c7bffedfe7a",
   "metadata": {},
   "outputs": [
    {
     "name": "stdout",
     "output_type": "stream",
     "text": [
      "Independent Samples T-test Results for 2020 Gross Income:\n",
      "t-statistic: 4.405783957323624\n",
      "p-value: 1.1205089638084743e-05\n",
      "\n",
      "Independent Samples T-test Results for 2020 Necessary Expenses:\n",
      "t-statistic: -0.30951032414298646\n",
      "p-value: 0.7569715610579175\n"
     ]
    }
   ],
   "source": [
    "print(\"Independent Samples T-test Results for 2020 Gross Income:\")\n",
    "print(\"t-statistic:\", t_stat_gross_income)\n",
    "print(\"p-value:\", p_value_gross_income)\n",
    "\n",
    "print(\"\\nIndependent Samples T-test Results for 2020 Necessary Expenses:\")\n",
    "print(\"t-statistic:\", t_stat_necessary_expenses)\n",
    "print(\"p-value:\", p_value_necessary_expenses)"
   ]
  },
  {
   "cell_type": "code",
   "execution_count": null,
   "id": "504fd949-e0d8-4395-a335-6360a79cda5f",
   "metadata": {},
   "outputs": [],
   "source": []
  }
 ],
 "metadata": {
  "kernelspec": {
   "display_name": "Python 3 (ipykernel)",
   "language": "python",
   "name": "python3"
  },
  "language_info": {
   "codemirror_mode": {
    "name": "ipython",
    "version": 3
   },
   "file_extension": ".py",
   "mimetype": "text/x-python",
   "name": "python",
   "nbconvert_exporter": "python",
   "pygments_lexer": "ipython3",
   "version": "3.11.6"
  }
 },
 "nbformat": 4,
 "nbformat_minor": 5
}
